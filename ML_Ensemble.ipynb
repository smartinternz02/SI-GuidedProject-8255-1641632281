{
 "cells": [
  {
   "cell_type": "code",
   "execution_count": 1,
   "metadata": {
    "colab": {
     "base_uri": "https://localhost:8080/",
     "height": 72
    },
    "colab_type": "code",
    "id": "satZo3HeYcs-",
    "outputId": "ed3e8315-0c91-4dd7-9185-d94a22795cea"
   },
   "outputs": [
    {
     "name": "stderr",
     "output_type": "stream",
     "text": [
      "/usr/local/lib/python3.6/dist-packages/statsmodels/tools/_testing.py:19: FutureWarning: pandas.util.testing is deprecated. Use the functions in the public API at pandas.testing instead.\n",
      "  import pandas.util.testing as tm\n"
     ]
    }
   ],
   "source": [
    "import numpy as np\n",
    "import pandas as pd\n",
    "import matplotlib.pyplot as plt\n",
    "import seaborn as sns\n"
   ]
  },
  {
   "cell_type": "code",
   "execution_count": 3,
   "metadata": {
    "colab": {},
    "colab_type": "code",
    "id": "FwQzB8qjYe_F"
   },
   "outputs": [],
   "source": [
    "df=pd.read_csv('C:/Users/bestr/Desktop/Python/Predicting The Energy Output Of Wind Turbine Based On Weather Condition Using IBM Cloud/T1.csv')"
   ]
  },
  {
   "cell_type": "code",
   "execution_count": 4,
   "metadata": {
    "colab": {},
    "colab_type": "code",
    "id": "mIGQq_VuYhPX"
   },
   "outputs": [],
   "source": [
    "df.drop(columns=df[['Date/Time','Theoretical_Power_Curve (KWh)']],inplace=True)\n",
    "y=df['LV ActivePower (kW)']\n",
    "df.drop(columns=['LV ActivePower (kW)'],axis=1,inplace=True)"
   ]
  },
  {
   "cell_type": "code",
   "execution_count": 5,
   "metadata": {
    "colab": {},
    "colab_type": "code",
    "id": "nlzBo8ksYn_c"
   },
   "outputs": [],
   "source": [
    "df['Wind Direction (°)']=(df['Wind Direction (°)']-df['Wind Direction (°)'].mean())/(df['Wind Direction (°)'].std())\n",
    "df['Wind Speed (m/s)']=(df['Wind Speed (m/s)']-df['Wind Speed (m/s)'].mean())/(df['Wind Speed (m/s)'].std())"
   ]
  },
  {
   "cell_type": "code",
   "execution_count": 6,
   "metadata": {
    "colab": {},
    "colab_type": "code",
    "id": "2SV63PEiYvQt"
   },
   "outputs": [],
   "source": [
    "y_train=y[:42283] #data till october\n",
    "y_test=y[42283:]\n",
    "X_train=df.iloc[:42283]\n",
    "X_test=df.iloc[42283:]"
   ]
  },
  {
   "cell_type": "code",
   "execution_count": 8,
   "metadata": {
    "colab": {
     "base_uri": "https://localhost:8080/",
     "height": 104
    },
    "colab_type": "code",
    "id": "38dOpKzBYxcA",
    "outputId": "76e11e05-7791-478b-b8b2-bb57bb2bc3b4"
   },
   "outputs": [
    {
     "name": "stdout",
     "output_type": "stream",
     "text": [
      "[16:54:48] WARNING: /workspace/src/objective/regression_obj.cu:152: reg:linear is now deprecated in favor of reg:squarederror.\n",
      "[  37.19686887   35.1144883   166.4837035  ... 1496.15758367 2002.28501619\n",
      " 2197.22718458]\n",
      "R2 0.8966747293978229\n",
      "RMSE 441.4482250519333\n"
     ]
    }
   ],
   "source": [
    "from sklearn.linear_model import LinearRegression\n",
    "from sklearn.ensemble import VotingRegressor\n",
    "from sklearn.svm import SVR\n",
    "from sklearn.ensemble import RandomForestRegressor\n",
    "import xgboost as xgb\n",
    "from xgboost import XGBRegressor\n",
    "from sklearn.metrics import accuracy_score,r2_score,mean_squared_error\n",
    "xgr=XGBRegressor(base_score=0.5, booster='gbtree', colsample_bylevel=0.7,\n",
    "             colsample_bynode=1, colsample_bytree=0.3, gamma=0.2,\n",
    "             importance_type='gain', learning_rate=0.03, max_delta_step=0,\n",
    "             max_depth=8, min_child_weight=25, missing=None, n_estimators=800,\n",
    "             n_jobs=1, nthread=None, objective='reg:linear', random_state=0,\n",
    "             reg_alpha=0.2, reg_lambda=0.8, scale_pos_weight=1, seed=None,\n",
    "             silent=None, subsample=0.1, verbosity=1)\n",
    "sm=SVR(gamma='auto',C=50,epsilon=0.3)\n",
    "rf=RandomForestRegressor(n_estimators=500,max_depth=4)\n",
    "lr=LinearRegression()\n",
    "model=VotingRegressor([('lr',lr), ('rf',rf),('sm', sm),('xgr',xgr)],weights=[1,1,2,3])\n",
    "Model=model.fit(X_train, y_train)\n",
    "y_pred=Model.predict(X_test)\n",
    "print(y_pred)\n",
    "print('R2',r2_score(y_test,y_pred))\n",
    "print('RMSE',np.sqrt(mean_squared_error(y_test,y_pred)))"
   ]
  },
  {
   "cell_type": "code",
   "execution_count": null,
   "metadata": {
    "colab": {},
    "colab_type": "code",
    "id": "kwIfyjfTZDMb"
   },
   "outputs": [],
   "source": [
    "from sklearn.externals import joblib \n",
    "joblib.dump(Model, 'ML ensemble Model.pkl') "
   ]
  }
 ],
 "metadata": {
  "colab": {
   "name": "Ml_Ensemble4.ipynb",
   "provenance": []
  },
  "kernelspec": {
   "display_name": "Python 3 (ipykernel)",
   "language": "python",
   "name": "python3"
  },
  "language_info": {
   "codemirror_mode": {
    "name": "ipython",
    "version": 3
   },
   "file_extension": ".py",
   "mimetype": "text/x-python",
   "name": "python",
   "nbconvert_exporter": "python",
   "pygments_lexer": "ipython3",
   "version": "3.9.7"
  }
 },
 "nbformat": 4,
 "nbformat_minor": 1
}
