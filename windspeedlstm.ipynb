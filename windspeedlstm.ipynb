{
 "cells": [
  {
   "cell_type": "code",
   "execution_count": null,
   "metadata": {
    "colab": {
     "base_uri": "https://localhost:8080/",
     "height": 34
    },
    "id": "TR1BMBXdxklc",
    "outputId": "1c095550-fe9a-436c-ccd6-037a7795b319"
   },
   "outputs": [
    {
     "name": "stderr",
     "output_type": "stream",
     "text": [
      "Using TensorFlow backend.\n"
     ]
    }
   ],
   "source": [
    "from pandas import DataFrame\n",
    "from pandas import Series\n",
    "from pandas import concat\n",
    "from pandas import read_csv\n",
    "from pandas import datetime\n",
    "from sklearn.metrics import mean_squared_error\n",
    "from sklearn.preprocessing import MinMaxScaler\n",
    "from keras.models import Sequential\n",
    "from keras.layers import Dense\n",
    "from keras.layers import LSTM\n",
    "from math import sqrt\n",
    "from matplotlib import pyplot\n",
    "import numpy as np\n",
    "import pandas as pd"
   ]
  },
  {
   "cell_type": "code",
   "execution_count": null,
   "metadata": {
    "id": "ZmEpq4Bi0PxJ"
   },
   "outputs": [],
   "source": [
    "window_size = 48\n",
    "batch_size_exp = 1\n",
    "epoch_exp = 7\n",
    "neurons_exp = 50\n",
    "predict_values_exp = 6000\n",
    "lag_exp=72"
   ]
  },
  {
   "cell_type": "code",
   "execution_count": null,
   "metadata": {
    "id": "v1tpmak40ToO"
   },
   "outputs": [],
   "source": [
    "def timeseries_to_supervised(data, lag=1):\n",
    "    df = DataFrame(data)\n",
    "    columns = [df.shift(i) for i in range(1, lag+1)]\n",
    "    columns.append(df)\n",
    "    df = concat(columns, axis=1)\n",
    "    df.fillna(0, inplace=True)\n",
    "    return df"
   ]
  },
  {
   "cell_type": "code",
   "execution_count": null,
   "metadata": {
    "id": "VTa67tPL0Vna"
   },
   "outputs": [],
   "source": [
    "\n",
    "def difference(dataset, interval=1):\n",
    "    diff = list()\n",
    "    for i in range(interval, len(dataset)):\n",
    "        value = dataset[i] - dataset[i - interval]\n",
    "        diff.append(value)\n",
    "    return Series(diff)"
   ]
  },
  {
   "cell_type": "code",
   "execution_count": null,
   "metadata": {
    "id": "kR-nqgUF0XnJ"
   },
   "outputs": [],
   "source": [
    "def inverse_difference(history, yhat, interval=1):\n",
    "    return yhat + history[-interval]"
   ]
  },
  {
   "cell_type": "code",
   "execution_count": null,
   "metadata": {
    "id": "gf01jkjT0YxQ"
   },
   "outputs": [],
   "source": [
    "def scale(data_norm):\n",
    "    scaler = MinMaxScaler(feature_range=(-1, 1))\n",
    "    scaler = scaler.fit(data_norm)\n",
    "    # transform train\n",
    "    data_norm = data_norm.reshape(data_norm.shape[0], data_norm.shape[1])\n",
    "    data_scaled = scaler.transform(data_norm)\n",
    "    return scaler, data_scaled\n"
   ]
  },
  {
   "cell_type": "code",
   "execution_count": null,
   "metadata": {
    "id": "IgxB68Ib0Z4h"
   },
   "outputs": [],
   "source": [
    "def invert_scale(scaler, X, value):\n",
    "    new_row = [x for x in X] + [value]\n",
    "    array = np.array(new_row)\n",
    "    array = array.reshape(1, len(array))\n",
    "    inverted = scaler.inverse_transform(array)\n",
    "    return inverted[0, -1]"
   ]
  },
  {
   "cell_type": "code",
   "execution_count": null,
   "metadata": {
    "id": "noSKvaT20bTF"
   },
   "outputs": [],
   "source": [
    "from keras.layers import Activation, Dense, BatchNormalization, TimeDistributed\n",
    "def fit_lstm(train, batch_size, nb_epoch, neurons):\n",
    "    X, y = train[:, 0:-1], train[:, -1]\n",
    "    X = X.reshape(X.shape[0], 1, X.shape[1])\n",
    "    model = Sequential()\n",
    "    model.add(LSTM(neurons_exp, dropout = 0.1 ,batch_input_shape=(batch_size, X.shape[1], X.shape[2]), stateful=True))\n",
    "    model.add(BatchNormalization())\n",
    "    model.add(Dense(50))\n",
    "    model.add(Activation('relu'))\n",
    "    model.add(Dense(50))\n",
    "    model.add(Activation('tanh'))\n",
    "    model.add(Dense(1))\n",
    "    model.compile(loss='mean_squared_error', optimizer='adam')\n",
    "    for i in range(nb_epoch):\n",
    "        model.fit(X, y, epochs=1, batch_size=batch_size, verbose=1, shuffle=False)\n",
    "        model.reset_states()\n",
    "    return model"
   ]
  },
  {
   "cell_type": "code",
   "execution_count": null,
   "metadata": {
    "id": "eqgYVxUX0dkg"
   },
   "outputs": [],
   "source": [
    "def forecast_lstm(model, batch_size, X):\n",
    "    X = X.reshape(1, 1, len(X))\n",
    "    #print(X)\n",
    "    yhat = model.predict(X, batch_size=1)\n",
    "    return yhat[0,0]\n"
   ]
  },
  {
   "cell_type": "code",
   "execution_count": null,
   "metadata": {
    "colab": {
     "base_uri": "https://localhost:8080/",
     "height": 235
    },
    "id": "knUxuHSJ0fWo",
    "outputId": "8af36cb7-03cf-4345-8233-9446a38c00be"
   },
   "outputs": [
    {
     "data": {
      "text/html": [
       "<div>\n",
       "<style scoped>\n",
       "    .dataframe tbody tr th:only-of-type {\n",
       "        vertical-align: middle;\n",
       "    }\n",
       "\n",
       "    .dataframe tbody tr th {\n",
       "        vertical-align: top;\n",
       "    }\n",
       "\n",
       "    .dataframe thead th {\n",
       "        text-align: right;\n",
       "    }\n",
       "</style>\n",
       "<table border=\"1\" class=\"dataframe\">\n",
       "  <thead>\n",
       "    <tr style=\"text-align: right;\">\n",
       "      <th></th>\n",
       "      <th>LV ActivePower (kW)</th>\n",
       "      <th>Wind Speed (m/s)</th>\n",
       "      <th>Theoretical_Power_Curve (KWh)</th>\n",
       "      <th>Wind Direction (°)</th>\n",
       "    </tr>\n",
       "    <tr>\n",
       "      <th>Date/Time</th>\n",
       "      <th></th>\n",
       "      <th></th>\n",
       "      <th></th>\n",
       "      <th></th>\n",
       "    </tr>\n",
       "  </thead>\n",
       "  <tbody>\n",
       "    <tr>\n",
       "      <th>01 01 2018 00:00</th>\n",
       "      <td>380.047791</td>\n",
       "      <td>5.311336</td>\n",
       "      <td>416.328908</td>\n",
       "      <td>259.994904</td>\n",
       "    </tr>\n",
       "    <tr>\n",
       "      <th>01 01 2018 00:10</th>\n",
       "      <td>453.769196</td>\n",
       "      <td>5.672167</td>\n",
       "      <td>519.917511</td>\n",
       "      <td>268.641113</td>\n",
       "    </tr>\n",
       "    <tr>\n",
       "      <th>01 01 2018 00:20</th>\n",
       "      <td>306.376587</td>\n",
       "      <td>5.216037</td>\n",
       "      <td>390.900016</td>\n",
       "      <td>272.564789</td>\n",
       "    </tr>\n",
       "    <tr>\n",
       "      <th>01 01 2018 00:30</th>\n",
       "      <td>419.645905</td>\n",
       "      <td>5.659674</td>\n",
       "      <td>516.127569</td>\n",
       "      <td>271.258087</td>\n",
       "    </tr>\n",
       "    <tr>\n",
       "      <th>01 01 2018 00:40</th>\n",
       "      <td>380.650696</td>\n",
       "      <td>5.577941</td>\n",
       "      <td>491.702972</td>\n",
       "      <td>265.674286</td>\n",
       "    </tr>\n",
       "  </tbody>\n",
       "</table>\n",
       "</div>"
      ],
      "text/plain": [
       "                  LV ActivePower (kW)  ...  Wind Direction (°)\n",
       "Date/Time                              ...                    \n",
       "01 01 2018 00:00           380.047791  ...          259.994904\n",
       "01 01 2018 00:10           453.769196  ...          268.641113\n",
       "01 01 2018 00:20           306.376587  ...          272.564789\n",
       "01 01 2018 00:30           419.645905  ...          271.258087\n",
       "01 01 2018 00:40           380.650696  ...          265.674286\n",
       "\n",
       "[5 rows x 4 columns]"
      ]
     },
     "execution_count": 10,
     "metadata": {
      "tags": []
     },
     "output_type": "execute_result"
    }
   ],
   "source": [
    "import pandas as pd\n",
    "series = pd.read_csv('C:/Users/bestr/Desktop/Python/Predicting The Energy Output Of Wind Turbine Based On Weather Condition Using IBM Cloud/T1.csv',index_col=\"Date/Time\")\n",
    "series.head()"
   ]
  },
  {
   "cell_type": "code",
   "execution_count": null,
   "metadata": {
    "colab": {
     "base_uri": "https://localhost:8080/",
     "height": 235
    },
    "id": "4WP9lE4I0leY",
    "outputId": "606e8127-2b48-464d-bef9-076a9ea7bf80"
   },
   "outputs": [
    {
     "data": {
      "text/html": [
       "<div>\n",
       "<style scoped>\n",
       "    .dataframe tbody tr th:only-of-type {\n",
       "        vertical-align: middle;\n",
       "    }\n",
       "\n",
       "    .dataframe tbody tr th {\n",
       "        vertical-align: top;\n",
       "    }\n",
       "\n",
       "    .dataframe thead th {\n",
       "        text-align: right;\n",
       "    }\n",
       "</style>\n",
       "<table border=\"1\" class=\"dataframe\">\n",
       "  <thead>\n",
       "    <tr style=\"text-align: right;\">\n",
       "      <th></th>\n",
       "      <th>Wind Speed (m/s)</th>\n",
       "    </tr>\n",
       "    <tr>\n",
       "      <th>Date/Time</th>\n",
       "      <th></th>\n",
       "    </tr>\n",
       "  </thead>\n",
       "  <tbody>\n",
       "    <tr>\n",
       "      <th>01 01 2018 00:00</th>\n",
       "      <td>5.311336</td>\n",
       "    </tr>\n",
       "    <tr>\n",
       "      <th>01 01 2018 00:10</th>\n",
       "      <td>5.672167</td>\n",
       "    </tr>\n",
       "    <tr>\n",
       "      <th>01 01 2018 00:20</th>\n",
       "      <td>5.216037</td>\n",
       "    </tr>\n",
       "    <tr>\n",
       "      <th>01 01 2018 00:30</th>\n",
       "      <td>5.659674</td>\n",
       "    </tr>\n",
       "    <tr>\n",
       "      <th>01 01 2018 00:40</th>\n",
       "      <td>5.577941</td>\n",
       "    </tr>\n",
       "  </tbody>\n",
       "</table>\n",
       "</div>"
      ],
      "text/plain": [
       "                  Wind Speed (m/s)\n",
       "Date/Time                         \n",
       "01 01 2018 00:00          5.311336\n",
       "01 01 2018 00:10          5.672167\n",
       "01 01 2018 00:20          5.216037\n",
       "01 01 2018 00:30          5.659674\n",
       "01 01 2018 00:40          5.577941"
      ]
     },
     "execution_count": 11,
     "metadata": {
      "tags": []
     },
     "output_type": "execute_result"
    }
   ],
   "source": [
    "#del series['Air temperature | (\\'C)']\n",
    "del series['LV ActivePower (kW)']\n",
    "del series['Wind Direction (°)']\n",
    "del series['Theoretical_Power_Curve (KWh)']\n",
    "series.head()"
   ]
  },
  {
   "cell_type": "code",
   "execution_count": null,
   "metadata": {
    "colab": {
     "base_uri": "https://localhost:8080/",
     "height": 235
    },
    "id": "OXbEnc110qpi",
    "outputId": "7ca68ad3-9b71-4e15-9e37-60a5471644a9"
   },
   "outputs": [
    {
     "data": {
      "text/html": [
       "<div>\n",
       "<style scoped>\n",
       "    .dataframe tbody tr th:only-of-type {\n",
       "        vertical-align: middle;\n",
       "    }\n",
       "\n",
       "    .dataframe tbody tr th {\n",
       "        vertical-align: top;\n",
       "    }\n",
       "\n",
       "    .dataframe thead th {\n",
       "        text-align: right;\n",
       "    }\n",
       "</style>\n",
       "<table border=\"1\" class=\"dataframe\">\n",
       "  <thead>\n",
       "    <tr style=\"text-align: right;\">\n",
       "      <th></th>\n",
       "      <th>Wind Speed (m/s)</th>\n",
       "    </tr>\n",
       "    <tr>\n",
       "      <th>Date/Time</th>\n",
       "      <th></th>\n",
       "    </tr>\n",
       "  </thead>\n",
       "  <tbody>\n",
       "    <tr>\n",
       "      <th>31 12 2018 21:30</th>\n",
       "      <td>8.472826</td>\n",
       "    </tr>\n",
       "    <tr>\n",
       "      <th>31 12 2018 21:40</th>\n",
       "      <td>8.433422</td>\n",
       "    </tr>\n",
       "    <tr>\n",
       "      <th>31 12 2018 21:50</th>\n",
       "      <td>9.976660</td>\n",
       "    </tr>\n",
       "    <tr>\n",
       "      <th>31 12 2018 22:00</th>\n",
       "      <td>10.416830</td>\n",
       "    </tr>\n",
       "    <tr>\n",
       "      <th>31 12 2018 22:10</th>\n",
       "      <td>10.713670</td>\n",
       "    </tr>\n",
       "  </tbody>\n",
       "</table>\n",
       "</div>"
      ],
      "text/plain": [
       "                  Wind Speed (m/s)\n",
       "Date/Time                         \n",
       "31 12 2018 21:30          8.472826\n",
       "31 12 2018 21:40          8.433422\n",
       "31 12 2018 21:50          9.976660\n",
       "31 12 2018 22:00         10.416830\n",
       "31 12 2018 22:10         10.713670"
      ]
     },
     "execution_count": 12,
     "metadata": {
      "tags": []
     },
     "output_type": "execute_result"
    }
   ],
   "source": [
    "for i in range(0,10):\n",
    "  series = series[:-1]\n",
    "series.tail()"
   ]
  },
  {
   "cell_type": "code",
   "execution_count": null,
   "metadata": {
    "colab": {
     "base_uri": "https://localhost:8080/",
     "height": 34
    },
    "id": "8qdNuBB60sN-",
    "outputId": "d6389284-a042-4f23-8ca2-30384129ad9b"
   },
   "outputs": [
    {
     "data": {
      "text/plain": [
       "(50520, 1)"
      ]
     },
     "execution_count": 13,
     "metadata": {
      "tags": []
     },
     "output_type": "execute_result"
    }
   ],
   "source": [
    "series.shape"
   ]
  },
  {
   "cell_type": "code",
   "execution_count": null,
   "metadata": {
    "id": "ab5zigFI0uBr"
   },
   "outputs": [],
   "source": [
    "raw_values = series.values\n",
    "diff_values = difference(raw_values, 1)"
   ]
  },
  {
   "cell_type": "code",
   "execution_count": null,
   "metadata": {
    "id": "5pFnr9di0vRD"
   },
   "outputs": [],
   "source": [
    "# transform data to be supervised learning\n",
    "supervised = timeseries_to_supervised(diff_values, lag_exp)\n",
    "supervised_values = supervised.values"
   ]
  },
  {
   "cell_type": "code",
   "execution_count": null,
   "metadata": {
    "id": "7ypclNF50xHv"
   },
   "outputs": [],
   "source": [
    "\n",
    "\n",
    "# split data into train and test-sets\n",
    "scaler,supervised_values = scale(supervised_values)\n",
    "train_scaled, test_scaled = supervised_values[0:-predict_values_exp], supervised_values[-predict_values_exp:]\n",
    "#print(test_scaled)"
   ]
  },
  {
   "cell_type": "code",
   "execution_count": null,
   "metadata": {
    "colab": {
     "base_uri": "https://localhost:8080/",
     "height": 255
    },
    "id": "mLsnGs0L0yaR",
    "outputId": "ae1e7526-b2f6-4fac-95cb-5c78f3d769f6"
   },
   "outputs": [
    {
     "name": "stdout",
     "output_type": "stream",
     "text": [
      "Epoch 1/1\n",
      "44519/44519 [==============================] - 198s 4ms/step - loss: 0.0018\n",
      "Epoch 1/1\n",
      "44519/44519 [==============================] - 187s 4ms/step - loss: 0.0018\n",
      "Epoch 1/1\n",
      "44519/44519 [==============================] - 182s 4ms/step - loss: 0.0018\n",
      "Epoch 1/1\n",
      "44519/44519 [==============================] - 181s 4ms/step - loss: 0.0018\n",
      "Epoch 1/1\n",
      "44519/44519 [==============================] - 181s 4ms/step - loss: 0.0018\n",
      "Epoch 1/1\n",
      "44519/44519 [==============================] - 180s 4ms/step - loss: 0.0018\n",
      "Epoch 1/1\n",
      "44519/44519 [==============================] - 179s 4ms/step - loss: 0.0018\n"
     ]
    }
   ],
   "source": [
    "lstm_model = fit_lstm(train_scaled, batch_size_exp, epoch_exp, neurons_exp)\n"
   ]
  },
  {
   "cell_type": "code",
   "execution_count": null,
   "metadata": {
    "id": "LzMU3Fg4003F"
   },
   "outputs": [],
   "source": [
    "# walk-forward validation on the test data\n",
    "predictions = list()\n",
    "expectations = list()\n",
    "for i in range(len(test_scaled)-window_size):\n",
    "    window_prediction_frame = test_scaled\n",
    "    test_pred = list()\n",
    "    for j in range(window_size):\n",
    "        X, y = window_prediction_frame[i, 0:-1], window_prediction_frame[i, -1]\n",
    "        yhat = forecast_lstm(lstm_model, 1, X)#batch_size_exp to 1\n",
    "        '''# Start Debug prints\n",
    "        print(\"X: %\", X)\n",
    "        print(\"yhat: %\", yhat)\n",
    "        # End Debug prints'''\n",
    "        # Replacing value in test scaled with the predicted value.\n",
    "        test_pred = [yhat] + test_pred \n",
    "        if len(test_pred) > lag_exp+1:\n",
    "            test_pred = test_pred[:-1]\n",
    "        if j+1<len(window_prediction_frame):\n",
    "            if j+1 > lag_exp+1:\n",
    "                window_prediction_frame[j+1] = test_pred\n",
    "            else:\n",
    "                window_prediction_frame[j+1] = np.concatenate((test_pred, window_prediction_frame[j+1, j+1:]),axis=0)\n",
    "\n",
    "    # invert scaling\n",
    "    yhat = invert_scale(scaler, X, yhat)\n",
    "    # invert differencing\n",
    "    yhat = inverse_difference(raw_values, yhat, len(test_scaled)+1-i)\n",
    "    # store forecast\n",
    "    expected = raw_values[len(train_scaled) + i + 1 + window_size]\n",
    "    predictions.append(yhat)\n",
    "    expectations.append(expected)\n",
    "    #print('Hour=%d, Predicted=%f, Expected=%f' % (i+1, yhat, expected))\n"
   ]
  },
  {
   "cell_type": "code",
   "execution_count": null,
   "metadata": {
    "colab": {
     "base_uri": "https://localhost:8080/",
     "height": 34
    },
    "id": "dwWZfkNe79hz",
    "outputId": "002fd41e-50db-4d7a-f854-71f9b42601a2"
   },
   "outputs": [
    {
     "name": "stdout",
     "output_type": "stream",
     "text": [
      "Mean Absolute Percent Error:  35.28285179580739\n"
     ]
    }
   ],
   "source": [
    "\n",
    "\n",
    "expectations = np.array(expectations)\n",
    "predictions = np.array(predictions)\n",
    "print(\"Mean Absolute Percent Error: \", (np.mean(np.abs((expectations - predictions) / expectations.mean()))*100))"
   ]
  },
  {
   "cell_type": "code",
   "execution_count": null,
   "metadata": {
    "colab": {
     "base_uri": "https://localhost:8080/",
     "height": 406
    },
    "id": "cPPDZPiz8BiD",
    "outputId": "f01eae64-751f-4444-f99a-36c841fe2a22"
   },
   "outputs": [
    {
     "data": {
      "image/png": "[encoded data removed]",
      "text/plain": [
       "<Figure size 1440x576 with 1 Axes>"
      ]
     },
     "metadata": {
      "needs_background": "light",
      "tags": []
     },
     "output_type": "display_data"
    }
   ],
   "source": [
    "# line plot of observed vs predicted\n",
    "fig = pyplot.figure(figsize=(20,8))\n",
    "pyplot.plot(expectations[500:1000], label=\"True\")\n",
    "pyplot.plot(predictions[500:1000], label=\"Predicted\")\n",
    "pyplot.legend(loc='upper right')\n",
    "pyplot.xlabel(\"Number of hours\")\n",
    "pyplot.ylabel(\"wind speed\")\n",
    "pyplot.show()"
   ]
  },
  {
   "cell_type": "code",
   "execution_count": null,
   "metadata": {
    "id": "_9EHPGkn-ERj"
   },
   "outputs": [],
   "source": [
    "import pickle "
   ]
  },
  {
   "cell_type": "code",
   "execution_count": null,
   "metadata": {
    "id": "7DQjuT6Y29En"
   },
   "outputs": [],
   "source": [
    "Pkl_Filename = \"Pickle_RL1_Model.pkl\"  \n",
    "\n",
    "with open(Pkl_Filename, 'wb') as file:  \n",
    "    pickle.dump(lstm_model, file)"
   ]
  },
  {
   "cell_type": "code",
   "execution_count": null,
   "metadata": {
    "colab": {
     "base_uri": "https://localhost:8080/",
     "height": 34
    },
    "id": "jjGlnvde2_TA",
    "outputId": "765935b4-675b-4b38-a482-5378235b34e6"
   },
   "outputs": [
    {
     "data": {
      "text/plain": [
       "<keras.engine.sequential.Sequential at 0x7fcab01fccc0>"
      ]
     },
     "execution_count": 25,
     "metadata": {
      "tags": []
     },
     "output_type": "execute_result"
    }
   ],
   "source": [
    "with open(Pkl_Filename, 'rb') as file:  \n",
    "    Pickled_LR1_Model = pickle.load(file)\n",
    "\n",
    "Pickled_LR_Model"
   ]
  },
  {
   "cell_type": "code",
   "execution_count": null,
   "metadata": {
    "id": "OGVXQMlM3DoS"
   },
   "outputs": [],
   "source": [
    "score = Pickled_LR_Model.score(train, test)  \n",
    "# Print the Score\n",
    "print(\"Test score: {0:.2f} %\".format(100 * score))  \n",
    "\n",
    "# Predict the Labels using the reloaded Model\n",
    "Ypredict = Pickled_LR_Model.predict(test)  \n",
    "\n",
    "Ypredict"
   ]
  },
  {
   "cell_type": "code",
   "execution_count": null,
   "metadata": {
    "id": "LgUfot0k3Lmh"
   },
   "outputs": [],
   "source": []
  }
 ],
 "metadata": {
  "accelerator": "GPU",
  "colab": {
   "name": "windspeedlstm.ipynb",
   "provenance": []
  },
  "kernelspec": {
   "display_name": "Python 3 (ipykernel)",
   "language": "python",
   "name": "python3"
  },
  "language_info": {
   "codemirror_mode": {
    "name": "ipython",
    "version": 3
   },
   "file_extension": ".py",
   "mimetype": "text/x-python",
   "name": "python",
   "nbconvert_exporter": "python",
   "pygments_lexer": "ipython3",
   "version": "3.9.7"
  }
 },
 "nbformat": 4,
 "nbformat_minor": 1
}
